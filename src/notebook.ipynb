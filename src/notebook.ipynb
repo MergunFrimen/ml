{
 "cells": [
  {
   "attachments": {},
   "cell_type": "markdown",
   "metadata": {},
   "source": [
    "# Weather percipitation forecast for the following day\n",
    "\n",
    "Goal: Your task is to train a model to predict amount of next day precipitation based on the present day weather."
   ]
  },
  {
   "cell_type": "code",
   "execution_count": null,
   "metadata": {},
   "outputs": [],
   "source": [
    "# dependencies\n",
    "\n",
    "import pandas as pd\n",
    "import seaborn as sns\n",
    "\n",
    "# setup options\n",
    "\n",
    "pd.set_option('display.max_columns', 30)\n",
    "sns.set()\n",
    "\n",
    "# load data\n",
    "\n",
    "df = pd.read_parquet('../data/australia_weather.parquet')"
   ]
  },
  {
   "attachments": {},
   "cell_type": "markdown",
   "metadata": {},
   "source": [
    "## Exploratory data analysis\n",
    "\n",
    "Questions:\n",
    "- What features could we use?\n",
    "- How do we deal with missing values?\n",
    "- How do variables correlate with each other?\n",
    "- How is location relevant to the prediction?\n",
    "    - Are we predicting precipitation of entire continent (mean) or a specific location?\n",
    "    - Should we filter out some locations (keep only the ones that are in close proximity)?"
   ]
  },
  {
   "cell_type": "code",
   "execution_count": null,
   "metadata": {},
   "outputs": [],
   "source": [
    "df.info()"
   ]
  },
  {
   "cell_type": "code",
   "execution_count": null,
   "metadata": {},
   "outputs": [],
   "source": [
    "df.head(10)"
   ]
  },
  {
   "cell_type": "code",
   "execution_count": null,
   "metadata": {},
   "outputs": [],
   "source": [
    "df.describe()"
   ]
  },
  {
   "cell_type": "code",
   "execution_count": null,
   "metadata": {},
   "outputs": [],
   "source": [
    "df.groupby('Location')['Location'].count()"
   ]
  },
  {
   "attachments": {},
   "cell_type": "markdown",
   "metadata": {},
   "source": [
    "Observations:\n",
    "\n",
    "- there are 156412 entries (rows) and 24 variables (columns) \n",
    "- out of the variables 2 are dependent (`RainTomorrow` depends on `RISK_MM`, `RainToday` depends on `Rainfall`)\n",
    "- data has mostly float values, but also some string values (`Location`, `WindGustDir`, `WindDir9am`, `WindDir3pm`) and boolean values (`RainToday`, `RainTomorrow`) which can be converted to categorical values and integer values\n",
    "- there many columns with missing values (some columns have near to 50% missing values - `Evaporation`, `Sunshine`)\n",
    "- maximum atmospheric pressure is over 10000 hPa, which is not possible (at least not on Earth)\n",
    "- maximum cloud cover is 9, which is not possible (at most 8 oktas)"
   ]
  },
  {
   "attachments": {},
   "cell_type": "markdown",
   "metadata": {},
   "source": [
    "**Questions about the data**:\n",
    "\n",
    "- Reasons for why some data is missing?\n",
    "- What does sunshine mean? Is it the number of hours of sunshine? What exactly does \"bright sunshine\" mean?\n",
    "- How to determine if it rained or not for a given day? Is it determined the same as the `RainToday` column?"
   ]
  },
  {
   "cell_type": "code",
   "execution_count": null,
   "metadata": {},
   "outputs": [],
   "source": [
    "# correlation matrix\n",
    "\n",
    "sns.set(rc = {'figure.figsize':(11.7,8.27)})\n",
    "sns.heatmap(df.corr(numeric_only=True), annot=True, fmt=\".2f\")"
   ]
  },
  {
   "attachments": {},
   "cell_type": "markdown",
   "metadata": {},
   "source": [
    "Observations:\n",
    "\n",
    "- strong positive correlation between\n",
    "    - `Temp9am` and `MinTemp` (0.9)\n",
    "    - `Temp3pm` and `MaxTemp` (0.98)\n",
    "    - `Temp3pm` and `Temp9am` (0.86)\n",
    "- moderate negative correlation between\n",
    "    - `Cloud3pm` and `Sunshine` (-0.7)\n",
    "    - `Cloud9am` and `Sunshine` (-0.68)\n",
    "- no correlation between\n",
    "    - `Pressure9am` and `Pressure3pm` (should have strong positive correlation, probably caused by incorrect data)\n",
    "    - `Humidity` and `Pressure*` (pressure should be inversely proportional to humidity, probably caused by incorrect data)\n",
    "\n",
    "Strong correlations should be removed from the data.\n",
    "Cloud cover is preferable over sunshine, because sunshine is missing more rows."
   ]
  },
  {
   "cell_type": "code",
   "execution_count": null,
   "metadata": {},
   "outputs": [],
   "source": [
    "from scipy.stats import normaltest\n",
    "\n",
    "min_temp = df['MinTemp'].dropna()\n",
    "\n",
    "_, p = normaltest(min_temp)\n",
    "print(f'p-value: {p}')\n",
    "\n",
    "sns.histplot(data=min_temp, bins=50)"
   ]
  },
  {
   "cell_type": "code",
   "execution_count": null,
   "metadata": {},
   "outputs": [],
   "source": [
    "sns.scatterplot(data=df, x='MinTemp', y='MaxTemp', hue='RainToday')"
   ]
  },
  {
   "cell_type": "code",
   "execution_count": null,
   "metadata": {},
   "outputs": [],
   "source": [
    "sns.pairplot(df, vars=['Temp3pm', 'Humidity3pm', 'Pressure3pm'], hue='RainToday')"
   ]
  },
  {
   "attachments": {},
   "cell_type": "markdown",
   "metadata": {},
   "source": [
    "# Preprocessing"
   ]
  },
  {
   "attachments": {},
   "cell_type": "markdown",
   "metadata": {},
   "source": [
    "**TODO**:\n",
    "\n",
    "- filter out columns that are not needed\n",
    "- convert 3am 9am data to single column\n",
    "- remove correlated variables\n",
    "- subset dataset\n",
    "- convert types\n",
    "- remove incorrect data (pressure, cloud cover)\n",
    "- imputation of missing values\n",
    "- normalize data\n",
    "- use one-hot encoding for categorical variables\n",
    "- use label encoding for boolean variables\n",
    "- split data into train and test set"
   ]
  },
  {
   "cell_type": "code",
   "execution_count": null,
   "metadata": {},
   "outputs": [],
   "source": [
    "# type conversion\n",
    "\n",
    "df['Date'] = pd.to_datetime(df['Date'], format='%d/%m/%Y')\n",
    "\n",
    "obj_cols = df.select_dtypes(\"object\").columns\n",
    "df[obj_cols] = df[obj_cols].astype(\"category\")\n",
    "\n",
    "df.info()"
   ]
  },
  {
   "cell_type": "code",
   "execution_count": null,
   "metadata": {},
   "outputs": [],
   "source": [
    "# TODO: choose subset of columns\n",
    "\n",
    "subset_columns = [\n",
    "    'Date',\n",
    "    # 'Location',\n",
    "    # 'MinTemp',\n",
    "    # 'MaxTemp',\n",
    "    'Rainfall',\n",
    "    'Evaporation',\n",
    "    # 'Sunshine',\n",
    "    # 'WindGustDir',\n",
    "    # 'WindGustSpeed',\n",
    "    # 'WindDir9am',\n",
    "    # 'WindDir3pm',\n",
    "    # 'WindSpeed9am',\n",
    "    # 'WindSpeed3pm',\n",
    "    'Humidity9am',\n",
    "    'Humidity3pm',\n",
    "    'Pressure9am',\n",
    "    'Pressure3pm',\n",
    "    'Cloud9am',\n",
    "    'Cloud3pm',\n",
    "    'Temp9am',\n",
    "    'Temp3pm',\n",
    "    'RainToday',\n",
    "    'RISK_MM',\n",
    "    'RainTomorrow',\n",
    "]\n",
    "\n",
    "df_subset = df[subset_columns]"
   ]
  },
  {
   "cell_type": "code",
   "execution_count": null,
   "metadata": {},
   "outputs": [],
   "source": [
    "# statistical imputation\n",
    "\n",
    "# TODO"
   ]
  },
  {
   "attachments": {},
   "cell_type": "markdown",
   "metadata": {},
   "source": [
    "# Model"
   ]
  },
  {
   "attachments": {},
   "cell_type": "markdown",
   "metadata": {},
   "source": [
    "## Model selection"
   ]
  },
  {
   "attachments": {},
   "cell_type": "markdown",
   "metadata": {},
   "source": [
    "## Model explanation"
   ]
  },
  {
   "attachments": {},
   "cell_type": "markdown",
   "metadata": {},
   "source": [
    "## Model training"
   ]
  },
  {
   "cell_type": "code",
   "execution_count": null,
   "metadata": {},
   "outputs": [],
   "source": [
    "from sklearn.model_selection import train_test_split\n",
    "\n",
    "train_set, test_set = train_test_split(df, test_size=0.2, random_state=123)"
   ]
  },
  {
   "attachments": {},
   "cell_type": "markdown",
   "metadata": {},
   "source": [
    "## Model interpretation"
   ]
  },
  {
   "attachments": {},
   "cell_type": "markdown",
   "metadata": {},
   "source": [
    "## Model evaluation"
   ]
  },
  {
   "attachments": {},
   "cell_type": "markdown",
   "metadata": {},
   "source": [
    "# Results summary"
   ]
  }
 ],
 "metadata": {
  "kernelspec": {
   "display_name": "venv",
   "language": "python",
   "name": "python3"
  },
  "language_info": {
   "codemirror_mode": {
    "name": "ipython",
    "version": 3
   },
   "file_extension": ".py",
   "mimetype": "text/x-python",
   "name": "python",
   "nbconvert_exporter": "python",
   "pygments_lexer": "ipython3",
   "version": "3.10.9"
  }
 },
 "nbformat": 4,
 "nbformat_minor": 2
}
