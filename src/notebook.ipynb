{
    "cells": [
        {
            "attachments": {},
            "cell_type": "markdown",
            "metadata": {},
            "source": [
                "# Weather percipitation forecast for the following day"
            ]
        },
        {
            "attachments": {},
            "cell_type": "markdown",
            "metadata": {},
            "source": [
                "**TODO**: Describe the project"
            ]
        },
        {
            "attachments": {},
            "cell_type": "markdown",
            "metadata": {},
            "source": [
                "## Data loading\n",
                "\n",
                "We loaded the data from an Excel spreadsheet using Pandas.\n",
                "The spreadsheet wasn't very well formatted, so we had to read it in a bit of a hacky way.\n",
                "The column names were in two rows, so we had to combine them into one name.\n",
                "We also had to select the correct columns and rows, because the data contained a lot of empty rows and columns and some other data that we didn't need (some statistics and another sheet).\n",
                "\n",
                "After successfully loading the data, we stored it in a [parquet](https://parquet.apache.org/) file for faster loading in the future."
            ]
        },
        {
            "cell_type": "code",
            "execution_count": null,
            "metadata": {},
            "outputs": [],
            "source": [
                "# dependencies\n",
                "\n",
                "import pandas as pd\n",
                "import seaborn as sns\n",
                "\n",
                "# setup options\n",
                "\n",
                "pd.set_option('display.max_columns', 30)\n"
            ]
        },
        {
            "attachments": {},
            "cell_type": "markdown",
            "metadata": {},
            "source": [
                "## Data preparation for EDA"
            ]
        },
        {
            "attachments": {},
            "cell_type": "markdown",
            "metadata": {},
            "source": [
                "df = pd.read_parquet('../data/australia_weather.parquet')\n",
                "\n",
                "df.Date = pd.to_datetime(df.Date, dayfirst=True)\n",
                "\n",
                "obj_cols = df.select_dtypes(object).columns\n",
                "df[obj_cols] = df[obj_cols].astype(\"category\")\n",
                "\n",
                "df.info()"
            ]
        },
        {
            "cell_type": "code",
            "execution_count": null,
            "metadata": {},
            "outputs": [],
            "source": [
                "df = pd.read_parquet('../data/australia_weather.parquet')"
            ]
        },
        {
            "cell_type": "code",
            "execution_count": null,
            "metadata": {},
            "outputs": [],
            "source": [
                "df.head(10)"
            ]
        },
        {
            "cell_type": "code",
            "execution_count": null,
            "metadata": {},
            "outputs": [],
            "source": [
                "df.info()"
            ]
        },
        {
            "cell_type": "code",
            "execution_count": null,
            "metadata": {},
            "outputs": [],
            "source": [
                "df.describe()""from sklearn.model_selection import train_test_split\n",
                "\n",
                "train_set, test_set = train_test_split(df, test_size=0.2, random_state=42)"
            ]
        },
        {
            "attachments": {},
            "cell_type": "markdown",
            "metadata": {},
            "source": [
                "Observations:\n",
                "\n",
                "- there are 156412 entries (rows) and 24 variables (columns) \n",
                "- out of the variables 2 are dependent (`RainTomorrow` depends on `RISK_MM` and `RainToday` on `Rainfall`)\n",
                "- data has mostly float values, but also some string values (`Location`, `WindGustDir`, `WindDir9am`, `WindDir3pm`) and boolean values (`RainToday`, `RainTomorrow`) which can be converted to categorical values and integer values\n",
                "- there many columns with missing values (some columns have near to 50% missing values - `Evaporation`, `Sunshine`)\n",
                "- maximum atmospheric pressure is over 10000 hPa, which is not possible (at least not on Earth)\n",
                "- maximum cloud cover is 9, which is not possible (at most 8 oktas)"
            ]
        },
        {
            "attachments": {},
            "cell_type": "markdown",
            "metadata": {},
            "source": [
                "**Questions about the data**:\n",
                "\n",
                "- Reasons for why some data is missing?\n",
                "- What does sunshine mean? Is it the number of hours of sunshine? What exactly does \"bright sunshine\" mean?\n",
                "- How to determine if it rained or not for a given day? Is it determined the same as the `RainToday` column?"
            ]
        },
        {
            "cell_type": "code",
            "execution_count": null,
            "metadata": {},
            "outputs": [],
            "source": [
                "# correlation matrix\n",
                "\n",
                "sns.set(rc = {'figure.figsize':(11.7,8.27)})\n",
                "sns.heatmap(df.corr(numeric_only=True), annot=True, fmt=\".2f\")"
            ]
        },
        {
            "attachments": {},
            "cell_type": "markdown",
            "metadata": {},
            "source": [
                "Observations:\n",
                "\n",
                "- strong positive correlation between\n",
                "    - `Temp9am` and `MinTemp` (0.9)\n",
                "    - `Temp3pm` and `MaxTemp` (0.98)\n",
                "    - `Temp3pm` and `Temp9am` (0.86)\n",
                "- moderate negative correlation between\n",
                "    - `Cloud3pm` and `Sunshine` (-0.7)\n",
                "    - `Cloud9am` and `Sunshine` (-0.68)\n",
                "- no correlation between\n",
                "    - `Pressure9am` and `Pressure3pm` (should have strong positive correlation, probably caused by incorrect data)\n",
                "    - `Humidity` and `Pressure*` (should be inversely proportional to humidity, probably caused by incorrect data)\n",
                "\n",
                "\n",
                "TODO:\n",
                "- remove incorrect pressure data\n",
                "- remove correlated variables during feature selection"
            ]
        },
        {
            "cell_type": "code",
            "execution_count": null,
            "metadata": {},
            "outputs": [],
            "source": [
                "train_set.info()\n",
                "train_set.head(5)"
            ]
        },
        {
            "attachments": {},
            "cell_type": "markdown",
            "metadata": {},
            "source": [
                "# Preprocessing"
            ]
        },
        {
            "attachments": {},
            "cell_type": "markdown",
            "metadata": {},
            "source": [
                "# Model selection"
            ]
        },
        {
            "attachments": {},
            "cell_type": "markdown",
            "metadata": {},
            "source": [
                "# Model explanation"
            ]
        },
        {
            "attachments": {},
            "cell_type": "markdown",
            "metadata": {},
            "source": [
                "# Model training"
            ]
        },
        {
            "attachments": {},
            "cell_type": "markdown",
            "metadata": {},
            "source": [
                "# Model interpretation"
            ]
        },
        {
            "attachments": {},
            "cell_type": "markdown",
            "metadata": {},
            "source": [
                "# Model evaluation"
            ]
        },
        {
            "attachments": {},
            "cell_type": "markdown",
            "metadata": {},
            "source": [
                "# Results summary"
            ]
        }
    ],
    "metadata": {
        "kernelspec": {
            "display_name": "venv",
            "language": "python",
            "name": "python3"
        },
        "language_info": {
            "codemirror_mode": {
                "name": "ipython",
                "version": 3
            },
            "file_extension": ".py",
            "mimetype": "text/x-python",
            "name": "python",
            "nbconvert_exporter": "python",
            "pygments_lexer": "ipython3",
            "version": "3.8.3"
        }
    },
    "nbformat": 4,
    "nbformat_minor": 2
}