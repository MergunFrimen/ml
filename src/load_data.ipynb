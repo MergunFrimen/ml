{
 "cells": [
  {
   "attachments": {},
   "cell_type": "markdown",
   "metadata": {},
   "source": [
    "## Create *.parquet data file from zipped xlsx"
   ]
  },
  {
   "attachments": {},
   "cell_type": "markdown",
   "metadata": {},
   "source": [
    "**TODO**: Add to main notebook file before project hand-in."
   ]
  },
  {
   "cell_type": "code",
   "execution_count": null,
   "metadata": {},
   "outputs": [],
   "source": [
    "%%bash\n",
    "\n",
    "# extract data\n",
    "\n",
    "unzip -o ../data/australia_rain.zip -d ../data/"
   ]
  },
  {
   "cell_type": "code",
   "execution_count": null,
   "metadata": {},
   "outputs": [],
   "source": [
    "# load data from excel file and store to parquet file\n",
    "\n",
    "import pandas as pd\n",
    "\n",
    "column_names = [\n",
    "    'Date',\n",
    "    'Location',\n",
    "    'MinTemp',\n",
    "    'MaxTemp',\n",
    "    'Rainfall',\n",
    "    'Evaporation',\n",
    "    'Sunshine',\n",
    "    'WindGustDir',\n",
    "    'WindGustSpeed',\n",
    "    'WindDir9am',\n",
    "    'WindDir3pm',\n",
    "    'WindSpeed9am',\n",
    "    'WindSpeed3pm',\n",
    "    'Humidity9am',\n",
    "    'Humidity3pm',\n",
    "    'Pressure9am',\n",
    "    'Pressure3pm',\n",
    "    'Cloud9am',\n",
    "    'Cloud3pm',\n",
    "    'Temp9am',\n",
    "    'Temp3pm',\n",
    "    'RainToday',\n",
    "    'RISK_MM',\n",
    "    'RainTomorrow',\n",
    "]\n",
    "\n",
    "df = pd.read_excel(\n",
    "    io='../data/australia_weather.xlsx',\n",
    "    sheet_name='Sheet1',\n",
    "    header=None,\n",
    "    names=column_names,\n",
    "    index_col=None,\n",
    "    usecols=\"C:Z\",\n",
    "    skiprows=10,\n",
    "    nrows=156412,\n",
    ")\n",
    "\n",
    "df.to_parquet('../data/australia_weather.parquet')"
   ]
  }
 ],
 "metadata": {
  "kernelspec": {
   "display_name": "venv",
   "language": "python",
   "name": "python3"
  },
  "language_info": {
   "codemirror_mode": {
    "name": "ipython",
    "version": 3
   },
   "file_extension": ".py",
   "mimetype": "text/x-python",
   "name": "python",
   "nbconvert_exporter": "python",
   "pygments_lexer": "ipython3",
   "version": "3.8.3"
  }
 },
 "nbformat": 4,
 "nbformat_minor": 2
}
