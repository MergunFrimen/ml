{
 "cells": [
  {
   "attachments": {},
   "cell_type": "markdown",
   "metadata": {},
   "source": [
    "## Data loading\n",
    "\n",
    "We extracted the zip file and loaded the data from an Excel spreadsheet using Pandas.\n",
    "The spreadsheet wasn't very well formatted, so we had to read it in a bit of a hacky way.\n",
    "The column names were in two rows, so we had to combine them into one name.\n",
    "We also had to select the correct columns and rows, because the data contained a lot of empty rows and columns and some other data that we didn't need (some statistics and another sheet).\n",
    "\n",
    "After successfully loading the data, we stored it in a [parquet](https://parquet.apache.org/) file for faster loading in the future."
   ]
  },
  {
   "attachments": {},
   "cell_type": "markdown",
   "metadata": {},
   "source": [
    "**TODO**: Add to main notebook file before project hand-in."
   ]
  },
  {
   "cell_type": "code",
   "execution_count": null,
   "metadata": {},
   "outputs": [],
   "source": [
    "%%bash\n",
    "\n",
    "# extract data\n",
    "\n",
    "unzip -o ../data/australia_rain.zip -d ../data/"
   ]
  },
  {
   "cell_type": "code",
   "execution_count": null,
   "metadata": {},
   "outputs": [],
   "source": [
    "# load data from excel file and store to parquet file\n",
    "\n",
    "import pandas as pd\n",
    "\n",
    "column_names = [\n",
    "    'Date',\n",
    "    'Location',\n",
    "    'MinTemp',\n",
    "    'MaxTemp',\n",
    "    'Rainfall',\n",
    "    'Evaporation',\n",
    "    'Sunshine',\n",
    "    'WindGustDir',\n",
    "    'WindGustSpeed',\n",
    "    'WindDir9am',\n",
    "    'WindDir3pm',\n",
    "    'WindSpeed9am',\n",
    "    'WindSpeed3pm',\n",
    "    'Humidity9am',\n",
    "    'Humidity3pm',\n",
    "    'Pressure9am',\n",
    "    'Pressure3pm',\n",
    "    'Cloud9am',\n",
    "    'Cloud3pm',\n",
    "    'Temp9am',\n",
    "    'Temp3pm',\n",
    "    'RainToday',\n",
    "    'RISK_MM',\n",
    "    'RainTomorrow',\n",
    "]\n",
    "\n",
    "df = pd.read_excel(\n",
    "    io='../data/australia_weather.xlsx',\n",
    "    sheet_name='Sheet1',\n",
    "    header=None,\n",
    "    names=column_names,\n",
    "    index_col=None,\n",
    "    usecols=\"C:Z\",\n",
    "    skiprows=10,\n",
    "    nrows=156412,\n",
    ")\n",
    "\n",
    "df.to_parquet('../data/australia_weather.parquet')"
   ]
  }
 ],
 "metadata": {
  "kernelspec": {
   "display_name": "venv",
   "language": "python",
   "name": "python3"
  },
  "language_info": {
   "codemirror_mode": {
    "name": "ipython",
    "version": 3
   },
   "file_extension": ".py",
   "mimetype": "text/x-python",
   "name": "python",
   "nbconvert_exporter": "python",
   "pygments_lexer": "ipython3",
   "version": "3.8.3"
  }
 },
 "nbformat": 4,
 "nbformat_minor": 2
}
